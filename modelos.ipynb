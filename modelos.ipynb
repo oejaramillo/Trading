{
 "cells": [
  {
   "cell_type": "code",
   "execution_count": 1,
   "metadata": {},
   "outputs": [],
   "source": [
    "import pandas as pd\n",
    "import numpy as np\n",
    "import statsmodels.api as sm"
   ]
  },
  {
   "cell_type": "code",
   "execution_count": 2,
   "metadata": {},
   "outputs": [],
   "source": [
    "data = pd.read_csv('datos\\we_eurusd.csv')"
   ]
  },
  {
   "cell_type": "code",
   "execution_count": 9,
   "metadata": {},
   "outputs": [],
   "source": [
    "# Crear una variable ficticia para el cambio estructural\n",
    "data['Unnamed: 0'] = pd.to_datetime(data['Unnamed: 0'])\n",
    "data['dummy'] = 0\n",
    "\n",
    "data.loc[data['Unnamed: 0'] >= '2014-01-01', 'dummy'] = 1"
   ]
  },
  {
   "cell_type": "code",
   "execution_count": 10,
   "metadata": {},
   "outputs": [],
   "source": [
    "# Crear una variable para el tiempo\n",
    "data['t'] = np.arange(len(data))"
   ]
  },
  {
   "cell_type": "code",
   "execution_count": 11,
   "metadata": {},
   "outputs": [],
   "source": [
    "# Crear una matriz de diseño con las variables ficticias y de tiempo\n",
    "X = sm.add_constant(data[['t', 'dummy']])"
   ]
  },
  {
   "cell_type": "code",
   "execution_count": 14,
   "metadata": {},
   "outputs": [
    {
     "name": "stdout",
     "output_type": "stream",
     "text": [
      "                            OLS Regression Results                            \n",
      "==============================================================================\n",
      "Dep. Variable:               4. close   R-squared:                       0.553\n",
      "Model:                            OLS   Adj. R-squared:                  0.552\n",
      "Method:                 Least Squares   F-statistic:                     615.0\n",
      "Date:                Sun, 20 Aug 2023   Prob (F-statistic):          1.15e-174\n",
      "Time:                        13:09:55   Log-Likelihood:                 1034.7\n",
      "No. Observations:                 999   AIC:                            -2063.\n",
      "Df Residuals:                     996   BIC:                            -2049.\n",
      "Df Model:                           2                                         \n",
      "Covariance Type:            nonrobust                                         \n",
      "==============================================================================\n",
      "                 coef    std err          t      P>|t|      [0.025      0.975]\n",
      "------------------------------------------------------------------------------\n",
      "const          1.3508      0.006    222.153      0.000       1.339       1.363\n",
      "t          -5.882e-05   1.89e-05     -3.117      0.002   -9.59e-05   -2.18e-05\n",
      "dummy         -0.1608      0.011    -14.768      0.000      -0.182      -0.139\n",
      "==============================================================================\n",
      "Omnibus:                       72.441   Durbin-Watson:                   0.038\n",
      "Prob(Omnibus):                  0.000   Jarque-Bera (JB):               86.729\n",
      "Skew:                           0.692   Prob(JB):                     1.47e-19\n",
      "Kurtosis:                       3.410   Cond. No.                     2.40e+03\n",
      "==============================================================================\n",
      "\n",
      "Notes:\n",
      "[1] Standard Errors assume that the covariance matrix of the errors is correctly specified.\n",
      "[2] The condition number is large, 2.4e+03. This might indicate that there are\n",
      "strong multicollinearity or other numerical problems.\n"
     ]
    }
   ],
   "source": [
    "# Crear el modelo de regresión\n",
    "model = sm.OLS(data['4. close'], X)\n",
    "\n",
    "# Ajustar el modelo\n",
    "results = model.fit()\n",
    "\n",
    "# Imprimir los resultados\n",
    "print(results.summary())"
   ]
  },
  {
   "cell_type": "code",
   "execution_count": null,
   "metadata": {},
   "outputs": [],
   "source": []
  }
 ],
 "metadata": {
  "kernelspec": {
   "display_name": "Python 3",
   "language": "python",
   "name": "python3"
  },
  "language_info": {
   "codemirror_mode": {
    "name": "ipython",
    "version": 3
   },
   "file_extension": ".py",
   "mimetype": "text/x-python",
   "name": "python",
   "nbconvert_exporter": "python",
   "pygments_lexer": "ipython3",
   "version": "3.11.2"
  },
  "orig_nbformat": 4
 },
 "nbformat": 4,
 "nbformat_minor": 2
}
