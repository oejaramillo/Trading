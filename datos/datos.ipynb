{
 "cells": [
  {
   "cell_type": "code",
   "execution_count": 6,
   "metadata": {},
   "outputs": [],
   "source": [
    "from alpha_vantage.timeseries import TimeSeries\n",
    "import pandas as pd\n",
    "import numpy as np\n",
    "import matplotlib.pyplot as plt\n",
    "import json"
   ]
  },
  {
   "cell_type": "code",
   "execution_count": 8,
   "metadata": {},
   "outputs": [],
   "source": [
    "with open('secretos.json', 'r') as file:\n",
    "    api_key = json.load(file)\n",
    "\n",
    "alpha_vantage_key = api_key['alpha_vantage']"
   ]
  },
  {
   "cell_type": "code",
   "execution_count": 15,
   "metadata": {},
   "outputs": [],
   "source": [
    "simbolo = 'EURUSD'\n",
    "intervalos = '60min'"
   ]
  },
  {
   "attachments": {},
   "cell_type": "markdown",
   "metadata": {},
   "source": [
    "Llamamos a la API de Alpha_Vantage para recuperar datos del mercado"
   ]
  },
  {
   "cell_type": "code",
   "execution_count": 22,
   "metadata": {},
   "outputs": [],
   "source": [
    "ts = TimeSeries(key=alpha_vantage_key, output_format='pandas')\n",
    "data, meta_data = ts.get_intraday(symbol=simbolo, interval=intervalos, outputsize='full')"
   ]
  },
  {
   "cell_type": "code",
   "execution_count": 24,
   "metadata": {},
   "outputs": [
    {
     "name": "stdout",
     "output_type": "stream",
     "text": [
      "<class 'pandas.core.frame.DataFrame'>\n",
      "DatetimeIndex: 954 entries, 2023-04-14 12:00:00 to 2023-02-17 11:00:00\n",
      "Data columns (total 5 columns):\n",
      " #   Column     Non-Null Count  Dtype  \n",
      "---  ------     --------------  -----  \n",
      " 0   1. open    954 non-null    float64\n",
      " 1   2. high    954 non-null    float64\n",
      " 2   3. low     954 non-null    float64\n",
      " 3   4. close   954 non-null    float64\n",
      " 4   5. volume  954 non-null    float64\n",
      "dtypes: float64(5)\n",
      "memory usage: 44.7 KB\n"
     ]
    }
   ],
   "source": [
    "data.info()"
   ]
  },
  {
   "cell_type": "code",
   "execution_count": 25,
   "metadata": {},
   "outputs": [
    {
     "data": {
      "text/plain": [
       "date\n",
       "2023-04-14 12:00:00    1.0978\n",
       "2023-04-14 11:00:00    1.1006\n",
       "2023-04-14 10:00:00    1.1030\n",
       "2023-04-14 09:00:00    1.1035\n",
       "2023-04-14 08:00:00    1.1053\n",
       "                        ...  \n",
       "2023-02-17 15:00:00    1.0684\n",
       "2023-02-17 14:00:00    1.0678\n",
       "2023-02-17 13:00:00    1.0677\n",
       "2023-02-17 12:00:00    1.0662\n",
       "2023-02-17 11:00:00    1.0640\n",
       "Name: 4. close, Length: 954, dtype: float64"
      ]
     },
     "execution_count": 25,
     "metadata": {},
     "output_type": "execute_result"
    }
   ],
   "source": [
    "data.reset_index(inplace=True)\n"
   ]
  }
 ],
 "metadata": {
  "kernelspec": {
   "display_name": "Python 3",
   "language": "python",
   "name": "python3"
  },
  "language_info": {
   "codemirror_mode": {
    "name": "ipython",
    "version": 3
   },
   "file_extension": ".py",
   "mimetype": "text/x-python",
   "name": "python",
   "nbconvert_exporter": "python",
   "pygments_lexer": "ipython3",
   "version": "3.11.2"
  },
  "orig_nbformat": 4
 },
 "nbformat": 4,
 "nbformat_minor": 2
}
