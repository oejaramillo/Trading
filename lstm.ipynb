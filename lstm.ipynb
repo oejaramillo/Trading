{
 "cells": [
  {
   "cell_type": "code",
   "execution_count": 2,
   "metadata": {},
   "outputs": [],
   "source": [
    "import numpy as np\n",
    "import pandas as pd\n",
    "from sklearn.preprocessing import MinMaxScaler\n",
    "from sklearn.metrics import mean_squared_error, mean_absolute_error\n",
    "from keras.models import Sequential\n",
    "from keras.layers import LSTM, Dense"
   ]
  },
  {
   "cell_type": "code",
   "execution_count": 6,
   "metadata": {},
   "outputs": [],
   "source": [
    "# Cargar los datos de la serie de tiempo\n",
    "data = pd.read_csv('datos\\we_eurusd.csv') \n",
    "values = data['4. close'].values\n",
    "values = values.reshape(-1, 1)"
   ]
  },
  {
   "cell_type": "code",
   "execution_count": 7,
   "metadata": {},
   "outputs": [],
   "source": [
    "# Escalar los datos al rango (0, 1)\n",
    "scaler = MinMaxScaler(feature_range=(0, 1))\n",
    "scaled = scaler.fit_transform(values)"
   ]
  },
  {
   "cell_type": "code",
   "execution_count": 8,
   "metadata": {},
   "outputs": [],
   "source": [
    "# Dividir los datos en conjuntos de entrenamiento y prueba\n",
    "train_size = int(len(scaled) * 0.80)\n",
    "train, test = scaled[0:train_size, :], scaled[train_size:len(scaled), :]"
   ]
  },
  {
   "cell_type": "code",
   "execution_count": 9,
   "metadata": {},
   "outputs": [],
   "source": [
    "# Crear los conjuntos de datos para entrenamiento y prueba\n",
    "def create_dataset(dataset, look_back=1):\n",
    "    dataX, dataY = [], []\n",
    "    for i in range(len(dataset)-look_back):\n",
    "        a = dataset[i:(i+look_back), 0]\n",
    "        dataX.append(a)\n",
    "        dataY.append(dataset[i + look_back, 0])\n",
    "    return np.array(dataX), np.array(dataY)"
   ]
  },
  {
   "cell_type": "code",
   "execution_count": 10,
   "metadata": {},
   "outputs": [],
   "source": [
    "look_back = 7  # Número de pasos anteriores para considerar\n",
    "trainX, trainY = create_dataset(train, look_back)\n",
    "testX, testY = create_dataset(test, look_back)"
   ]
  },
  {
   "cell_type": "code",
   "execution_count": 11,
   "metadata": {},
   "outputs": [],
   "source": [
    "# Reshape de entrada [muestras, pasos de tiempo, características]\n",
    "trainX = np.reshape(trainX, (trainX.shape[0], trainX.shape[1], 1))\n",
    "testX = np.reshape(testX, (testX.shape[0], testX.shape[1], 1))"
   ]
  },
  {
   "cell_type": "code",
   "execution_count": 12,
   "metadata": {},
   "outputs": [],
   "source": [
    "# Crear y compilar el modelo LSTM\n",
    "model = Sequential()\n",
    "model.add(LSTM(50, input_shape=(look_back, 1)))\n",
    "model.add(Dense(1))\n",
    "model.compile(loss='mean_squared_error', optimizer='adam')"
   ]
  },
  {
   "cell_type": "code",
   "execution_count": 13,
   "metadata": {},
   "outputs": [
    {
     "name": "stdout",
     "output_type": "stream",
     "text": [
      "Epoch 1/100\n",
      "792/792 - 3s - loss: 0.0053 - 3s/epoch - 4ms/step\n",
      "Epoch 2/100\n",
      "792/792 - 2s - loss: 0.0023 - 2s/epoch - 2ms/step\n",
      "Epoch 3/100\n",
      "792/792 - 2s - loss: 0.0019 - 2s/epoch - 2ms/step\n",
      "Epoch 4/100\n",
      "792/792 - 2s - loss: 0.0015 - 2s/epoch - 2ms/step\n",
      "Epoch 5/100\n",
      "792/792 - 2s - loss: 0.0012 - 2s/epoch - 3ms/step\n",
      "Epoch 6/100\n",
      "792/792 - 2s - loss: 0.0011 - 2s/epoch - 2ms/step\n",
      "Epoch 7/100\n",
      "792/792 - 2s - loss: 9.8831e-04 - 2s/epoch - 2ms/step\n",
      "Epoch 8/100\n",
      "792/792 - 2s - loss: 9.6706e-04 - 2s/epoch - 2ms/step\n",
      "Epoch 9/100\n",
      "792/792 - 2s - loss: 9.7731e-04 - 2s/epoch - 3ms/step\n",
      "Epoch 10/100\n",
      "792/792 - 2s - loss: 8.9622e-04 - 2s/epoch - 2ms/step\n",
      "Epoch 11/100\n",
      "792/792 - 2s - loss: 9.0648e-04 - 2s/epoch - 3ms/step\n",
      "Epoch 12/100\n",
      "792/792 - 3s - loss: 9.6545e-04 - 3s/epoch - 3ms/step\n",
      "Epoch 13/100\n",
      "792/792 - 2s - loss: 8.9379e-04 - 2s/epoch - 3ms/step\n",
      "Epoch 14/100\n",
      "792/792 - 2s - loss: 8.7282e-04 - 2s/epoch - 2ms/step\n",
      "Epoch 15/100\n",
      "792/792 - 2s - loss: 8.7114e-04 - 2s/epoch - 2ms/step\n",
      "Epoch 16/100\n",
      "792/792 - 2s - loss: 8.9109e-04 - 2s/epoch - 2ms/step\n",
      "Epoch 17/100\n",
      "792/792 - 2s - loss: 8.6837e-04 - 2s/epoch - 2ms/step\n",
      "Epoch 18/100\n",
      "792/792 - 2s - loss: 8.7812e-04 - 2s/epoch - 2ms/step\n",
      "Epoch 19/100\n",
      "792/792 - 2s - loss: 8.6551e-04 - 2s/epoch - 2ms/step\n",
      "Epoch 20/100\n",
      "792/792 - 2s - loss: 8.8202e-04 - 2s/epoch - 2ms/step\n",
      "Epoch 21/100\n",
      "792/792 - 2s - loss: 8.6927e-04 - 2s/epoch - 2ms/step\n",
      "Epoch 22/100\n",
      "792/792 - 2s - loss: 8.5174e-04 - 2s/epoch - 2ms/step\n",
      "Epoch 23/100\n",
      "792/792 - 2s - loss: 8.7055e-04 - 2s/epoch - 2ms/step\n",
      "Epoch 24/100\n",
      "792/792 - 2s - loss: 8.7757e-04 - 2s/epoch - 2ms/step\n",
      "Epoch 25/100\n",
      "792/792 - 2s - loss: 8.6801e-04 - 2s/epoch - 2ms/step\n",
      "Epoch 26/100\n",
      "792/792 - 2s - loss: 8.6061e-04 - 2s/epoch - 2ms/step\n",
      "Epoch 27/100\n",
      "792/792 - 2s - loss: 8.2765e-04 - 2s/epoch - 2ms/step\n",
      "Epoch 28/100\n",
      "792/792 - 2s - loss: 8.7091e-04 - 2s/epoch - 2ms/step\n",
      "Epoch 29/100\n",
      "792/792 - 2s - loss: 8.0541e-04 - 2s/epoch - 2ms/step\n",
      "Epoch 30/100\n",
      "792/792 - 3s - loss: 8.5270e-04 - 3s/epoch - 3ms/step\n",
      "Epoch 31/100\n",
      "792/792 - 2s - loss: 8.5383e-04 - 2s/epoch - 3ms/step\n",
      "Epoch 32/100\n",
      "792/792 - 2s - loss: 8.3908e-04 - 2s/epoch - 3ms/step\n",
      "Epoch 33/100\n",
      "792/792 - 2s - loss: 8.5411e-04 - 2s/epoch - 3ms/step\n",
      "Epoch 34/100\n",
      "792/792 - 2s - loss: 8.9155e-04 - 2s/epoch - 2ms/step\n",
      "Epoch 35/100\n",
      "792/792 - 2s - loss: 8.4418e-04 - 2s/epoch - 2ms/step\n",
      "Epoch 36/100\n",
      "792/792 - 2s - loss: 8.3187e-04 - 2s/epoch - 2ms/step\n",
      "Epoch 37/100\n",
      "792/792 - 2s - loss: 8.3294e-04 - 2s/epoch - 2ms/step\n",
      "Epoch 38/100\n",
      "792/792 - 2s - loss: 8.4025e-04 - 2s/epoch - 2ms/step\n",
      "Epoch 39/100\n",
      "792/792 - 2s - loss: 8.2447e-04 - 2s/epoch - 2ms/step\n",
      "Epoch 40/100\n",
      "792/792 - 2s - loss: 8.3651e-04 - 2s/epoch - 2ms/step\n",
      "Epoch 41/100\n",
      "792/792 - 2s - loss: 8.4879e-04 - 2s/epoch - 2ms/step\n",
      "Epoch 42/100\n",
      "792/792 - 2s - loss: 8.4826e-04 - 2s/epoch - 2ms/step\n",
      "Epoch 43/100\n",
      "792/792 - 2s - loss: 8.6420e-04 - 2s/epoch - 2ms/step\n",
      "Epoch 44/100\n",
      "792/792 - 2s - loss: 8.2846e-04 - 2s/epoch - 2ms/step\n",
      "Epoch 45/100\n",
      "792/792 - 2s - loss: 8.2775e-04 - 2s/epoch - 2ms/step\n",
      "Epoch 46/100\n",
      "792/792 - 2s - loss: 8.2441e-04 - 2s/epoch - 2ms/step\n",
      "Epoch 47/100\n",
      "792/792 - 2s - loss: 8.3172e-04 - 2s/epoch - 2ms/step\n",
      "Epoch 48/100\n",
      "792/792 - 2s - loss: 8.3973e-04 - 2s/epoch - 2ms/step\n",
      "Epoch 49/100\n",
      "792/792 - 2s - loss: 8.2859e-04 - 2s/epoch - 2ms/step\n",
      "Epoch 50/100\n",
      "792/792 - 2s - loss: 8.3533e-04 - 2s/epoch - 2ms/step\n",
      "Epoch 51/100\n",
      "792/792 - 2s - loss: 8.2446e-04 - 2s/epoch - 2ms/step\n",
      "Epoch 52/100\n",
      "792/792 - 2s - loss: 8.1511e-04 - 2s/epoch - 2ms/step\n",
      "Epoch 53/100\n",
      "792/792 - 2s - loss: 8.2215e-04 - 2s/epoch - 2ms/step\n",
      "Epoch 54/100\n",
      "792/792 - 2s - loss: 8.5775e-04 - 2s/epoch - 3ms/step\n",
      "Epoch 55/100\n",
      "792/792 - 2s - loss: 8.0854e-04 - 2s/epoch - 2ms/step\n",
      "Epoch 56/100\n",
      "792/792 - 2s - loss: 8.3449e-04 - 2s/epoch - 2ms/step\n",
      "Epoch 57/100\n",
      "792/792 - 2s - loss: 8.2462e-04 - 2s/epoch - 2ms/step\n",
      "Epoch 58/100\n",
      "792/792 - 2s - loss: 8.3282e-04 - 2s/epoch - 2ms/step\n",
      "Epoch 59/100\n",
      "792/792 - 2s - loss: 8.0402e-04 - 2s/epoch - 3ms/step\n",
      "Epoch 60/100\n",
      "792/792 - 2s - loss: 8.1777e-04 - 2s/epoch - 2ms/step\n",
      "Epoch 61/100\n",
      "792/792 - 2s - loss: 8.2080e-04 - 2s/epoch - 2ms/step\n",
      "Epoch 62/100\n",
      "792/792 - 2s - loss: 8.2022e-04 - 2s/epoch - 2ms/step\n",
      "Epoch 63/100\n",
      "792/792 - 2s - loss: 8.5520e-04 - 2s/epoch - 2ms/step\n",
      "Epoch 64/100\n",
      "792/792 - 2s - loss: 8.3565e-04 - 2s/epoch - 2ms/step\n",
      "Epoch 65/100\n",
      "792/792 - 2s - loss: 8.6131e-04 - 2s/epoch - 2ms/step\n",
      "Epoch 66/100\n",
      "792/792 - 2s - loss: 8.1104e-04 - 2s/epoch - 2ms/step\n",
      "Epoch 67/100\n",
      "792/792 - 2s - loss: 8.2001e-04 - 2s/epoch - 2ms/step\n",
      "Epoch 68/100\n",
      "792/792 - 2s - loss: 8.1287e-04 - 2s/epoch - 2ms/step\n",
      "Epoch 69/100\n",
      "792/792 - 2s - loss: 8.1827e-04 - 2s/epoch - 2ms/step\n",
      "Epoch 70/100\n",
      "792/792 - 2s - loss: 8.1365e-04 - 2s/epoch - 2ms/step\n",
      "Epoch 71/100\n",
      "792/792 - 2s - loss: 8.3112e-04 - 2s/epoch - 2ms/step\n",
      "Epoch 72/100\n",
      "792/792 - 2s - loss: 8.2540e-04 - 2s/epoch - 2ms/step\n",
      "Epoch 73/100\n",
      "792/792 - 2s - loss: 8.0958e-04 - 2s/epoch - 2ms/step\n",
      "Epoch 74/100\n",
      "792/792 - 2s - loss: 8.2313e-04 - 2s/epoch - 2ms/step\n",
      "Epoch 75/100\n",
      "792/792 - 2s - loss: 7.7282e-04 - 2s/epoch - 2ms/step\n",
      "Epoch 76/100\n",
      "792/792 - 2s - loss: 8.1063e-04 - 2s/epoch - 2ms/step\n",
      "Epoch 77/100\n",
      "792/792 - 2s - loss: 8.1846e-04 - 2s/epoch - 2ms/step\n",
      "Epoch 78/100\n",
      "792/792 - 2s - loss: 7.9645e-04 - 2s/epoch - 2ms/step\n",
      "Epoch 79/100\n",
      "792/792 - 2s - loss: 8.1931e-04 - 2s/epoch - 2ms/step\n",
      "Epoch 80/100\n",
      "792/792 - 2s - loss: 8.1188e-04 - 2s/epoch - 3ms/step\n",
      "Epoch 81/100\n",
      "792/792 - 2s - loss: 8.1839e-04 - 2s/epoch - 2ms/step\n",
      "Epoch 82/100\n",
      "792/792 - 2s - loss: 8.2261e-04 - 2s/epoch - 2ms/step\n",
      "Epoch 83/100\n",
      "792/792 - 2s - loss: 8.1403e-04 - 2s/epoch - 2ms/step\n",
      "Epoch 84/100\n",
      "792/792 - 2s - loss: 7.8882e-04 - 2s/epoch - 2ms/step\n",
      "Epoch 85/100\n",
      "792/792 - 2s - loss: 8.1763e-04 - 2s/epoch - 2ms/step\n",
      "Epoch 86/100\n",
      "792/792 - 2s - loss: 8.0340e-04 - 2s/epoch - 2ms/step\n",
      "Epoch 87/100\n",
      "792/792 - 2s - loss: 7.9345e-04 - 2s/epoch - 2ms/step\n",
      "Epoch 88/100\n",
      "792/792 - 3s - loss: 7.7818e-04 - 3s/epoch - 3ms/step\n",
      "Epoch 89/100\n",
      "792/792 - 2s - loss: 7.9014e-04 - 2s/epoch - 2ms/step\n",
      "Epoch 90/100\n",
      "792/792 - 2s - loss: 8.0163e-04 - 2s/epoch - 2ms/step\n",
      "Epoch 91/100\n",
      "792/792 - 2s - loss: 8.0660e-04 - 2s/epoch - 2ms/step\n",
      "Epoch 92/100\n",
      "792/792 - 2s - loss: 8.1675e-04 - 2s/epoch - 2ms/step\n",
      "Epoch 93/100\n",
      "792/792 - 2s - loss: 8.1179e-04 - 2s/epoch - 2ms/step\n",
      "Epoch 94/100\n",
      "792/792 - 2s - loss: 8.2427e-04 - 2s/epoch - 2ms/step\n",
      "Epoch 95/100\n",
      "792/792 - 2s - loss: 8.1615e-04 - 2s/epoch - 2ms/step\n",
      "Epoch 96/100\n",
      "792/792 - 2s - loss: 8.0612e-04 - 2s/epoch - 2ms/step\n",
      "Epoch 97/100\n",
      "792/792 - 2s - loss: 7.8859e-04 - 2s/epoch - 2ms/step\n",
      "Epoch 98/100\n",
      "792/792 - 2s - loss: 8.1155e-04 - 2s/epoch - 2ms/step\n",
      "Epoch 99/100\n",
      "792/792 - 2s - loss: 7.9174e-04 - 2s/epoch - 2ms/step\n",
      "Epoch 100/100\n",
      "792/792 - 2s - loss: 7.9337e-04 - 2s/epoch - 2ms/step\n"
     ]
    },
    {
     "data": {
      "text/plain": [
       "<keras.src.callbacks.History at 0x185ce590810>"
      ]
     },
     "execution_count": 13,
     "metadata": {},
     "output_type": "execute_result"
    }
   ],
   "source": [
    "# Entrenar el modelo\n",
    "model.fit(trainX, trainY, epochs=100, batch_size=1, verbose=2)"
   ]
  },
  {
   "cell_type": "code",
   "execution_count": 14,
   "metadata": {},
   "outputs": [
    {
     "name": "stdout",
     "output_type": "stream",
     "text": [
      "7/7 [==============================] - 0s 2ms/step\n"
     ]
    }
   ],
   "source": [
    "# Realizar pronósticos en el conjunto de prueba\n",
    "testPredict = model.predict(testX)\n",
    "testPredict = scaler.inverse_transform(testPredict)\n",
    "testY = scaler.inverse_transform([testY])"
   ]
  },
  {
   "cell_type": "code",
   "execution_count": 15,
   "metadata": {},
   "outputs": [
    {
     "name": "stdout",
     "output_type": "stream",
     "text": [
      "RMSE: 0.014797798633034443\n",
      "MAE: 0.011360691702452352\n",
      "MAPE: 1.0288090219516333\n",
      "Theil: 0.013206760494356125\n",
      "Theil U2: 0.016649985851230877\n",
      "Symmetric MAPE: 1.0289352809208951\n"
     ]
    }
   ],
   "source": [
    "# Calcular métricas de evaluación\n",
    "rmse = np.sqrt(mean_squared_error(testY[0], testPredict[:, 0]))\n",
    "mae = mean_absolute_error(testY[0], testPredict[:, 0])\n",
    "mape = np.mean(np.abs((testY[0] - testPredict[:, 0]) / testY[0])) * 100\n",
    "theil = np.sqrt((rmse**2) / (np.mean(testY[0]**2)))\n",
    "theil_u2 = np.sqrt(((rmse**2) + (mae**2)) / (np.mean(testY[0]**2)))\n",
    "symmetric_mape = (100 / len(testY[0])) * np.sum(2 * np.abs(testPredict[:, 0] - testY[0]) / (np.abs(testPredict[:, 0]) + np.abs(testY[0])))\n",
    "\n",
    "print(\"RMSE:\", rmse)\n",
    "print(\"MAE:\", mae)\n",
    "print(\"MAPE:\", mape)\n",
    "print(\"Theil:\", theil)\n",
    "print(\"Theil U2:\", theil_u2)\n",
    "print(\"Symmetric MAPE:\", symmetric_mape)\n"
   ]
  }
 ],
 "metadata": {
  "kernelspec": {
   "display_name": "Python 3",
   "language": "python",
   "name": "python3"
  },
  "language_info": {
   "codemirror_mode": {
    "name": "ipython",
    "version": 3
   },
   "file_extension": ".py",
   "mimetype": "text/x-python",
   "name": "python",
   "nbconvert_exporter": "python",
   "pygments_lexer": "ipython3",
   "version": "3.11.2"
  },
  "orig_nbformat": 4
 },
 "nbformat": 4,
 "nbformat_minor": 2
}
